{
 "cells": [
  {
   "cell_type": "code",
   "execution_count": 1,
   "outputs": [],
   "source": [
    "import pandas as pd\n",
    "from pandas import DataFrame as DaFe"
   ],
   "metadata": {
    "collapsed": false,
    "pycharm": {
     "name": "#%%\n"
    }
   }
  },
  {
   "cell_type": "code",
   "execution_count": null,
   "outputs": [],
   "source": [
    "# this value can be decreased to use less ram, but slower\n",
    "# if increased, faster but more ram is used,\n",
    "# as working with large sets of data,\n",
    "# lower value is better as possible.\n",
    "CHUNK_SIZE = 2000000\n",
    "\n",
    "\n",
    "def get_non_sense_rows_from_big_csv(csv_location: str) -> DaFe:\n",
    "    output = DaFe()\n",
    "    # never use this my_csv = pd.read_csv('all_data.csv')\n",
    "    # because if csv is 20gb then ram used is 20gb\n",
    "    with pd.read_csv(csv_location, chunksize=CHUNK_SIZE) as file_reader:\n",
    "        for chunk in file_reader:\n",
    "            non_sense_data = chunk[(chunk == chunk.columns).any(axis=1)]\n",
    "            if not non_sense_data.empty:\n",
    "                output = output.append(non_sense_data)\n",
    "    return output\n",
    "\n",
    "\n",
    "# personal benchmark\n",
    "# estimated running time = 4 minutes, for 20 gb file, CHUNK_SIZE = 2000000\n",
    "# 16gb ram (less than 2gb was used by python) (RYZEN 3 3200g similar to i3 10th gen)\n",
    "get_non_sense_rows_from_big_csv('all_data.csv').to_csv('errors.csv')\n",
    "# answer is (20 rows) read ./errors.csv"
   ],
   "metadata": {
    "collapsed": false,
    "pycharm": {
     "name": "#%%\n"
    }
   }
  }
 ],
 "metadata": {
  "kernelspec": {
   "display_name": "Python 3",
   "language": "python",
   "name": "python3"
  },
  "language_info": {
   "codemirror_mode": {
    "name": "ipython",
    "version": 2
   },
   "file_extension": ".py",
   "mimetype": "text/x-python",
   "name": "python",
   "nbconvert_exporter": "python",
   "pygments_lexer": "ipython2",
   "version": "2.7.6"
  }
 },
 "nbformat": 4,
 "nbformat_minor": 0
}