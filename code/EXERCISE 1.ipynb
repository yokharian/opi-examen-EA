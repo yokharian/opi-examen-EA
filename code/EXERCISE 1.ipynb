{
 "cells": [
  {
   "cell_type": "code",
   "execution_count": null,
   "outputs": [],
   "source": [
    "!pip install pandas"
   ],
   "metadata": {
    "collapsed": false,
    "pycharm": {
     "name": "#%%\n"
    }
   }
  },
  {
   "cell_type": "code",
   "execution_count": 2,
   "outputs": [],
   "source": [
    "from typing import Set\n",
    "from typing import Tuple\n",
    "\n",
    "import pandas as pd\n",
    "from pandas import DataFrame as DaFe"
   ],
   "metadata": {
    "collapsed": false,
    "pycharm": {
     "name": "#%%\n"
    }
   }
  },
  {
   "cell_type": "code",
   "execution_count": 3,
   "outputs": [
    {
     "name": "stderr",
     "output_type": "stream",
     "text": [
      "/home/drapaiton/.cache/pypoetry/virtualenvs/opi-examen-ea-Sik3fYmv-py3.9/lib/python3.9/site-packages/IPython/core/interactiveshell.py:3441: DtypeWarning: Columns (5,13,14) have mixed types.Specify dtype option on import or set low_memory=False.\n",
      "  exec(code_obj, self.user_global_ns, self.user_ns)\n"
     ]
    },
    {
     "name": "stdout",
     "output_type": "stream",
     "text": [
      "62530695\n"
     ]
    }
   ],
   "source": [
    "\"\"\"EXERCISE 1\n",
    "1. ¿Cuántos registros hay?\"\"\"\n",
    "\n",
    "# this value can be decreased to use less ram, but slower\n",
    "# if increased, faster but more ram is used,\n",
    "# as working with large sets of data,\n",
    "# lower value is better as possible.\n",
    "CHUNK_SIZE = 2000000\n",
    "\n",
    "def get_row_number_for_big_csv(csv_location: str) -> int:\n",
    "    \"\"\"optimized way to get number of rows in a big csv file\"\"\"\n",
    "    output = 0\n",
    "    # never use this my_csv = pd.read_csv('all_data.csv')\n",
    "    # because if csv is 20gb then ram used is 20gb\n",
    "    with pd.read_csv(csv_location, chunksize = CHUNK_SIZE) as file_reader:\n",
    "        for chunk in file_reader:\n",
    "            # this line will delete non/sense rows\n",
    "            valid_chunk = chunk.loc[(chunk != chunk.columns).any(axis=1)]\n",
    "            output += len(valid_chunk.index)\n",
    "    return output\n",
    "\n",
    "# personal benchmark\n",
    "# estimated running time = 4 minutes, for 20 gb file, CHUNK_SIZE = 2500\n",
    "# 16gb ram (around 3gb was used by python) (RYZEN 3 3200g similar to i3 10th gen)\n",
    "print(get_row_number_for_big_csv('all_data.csv'))\n",
    "# answer is 62530715 without data-clean\n",
    "# answer is 62530695 with data-clean (20 deleted)"
   ],
   "metadata": {
    "collapsed": false,
    "pycharm": {
     "name": "#%%\n"
    }
   }
  },
  {
   "cell_type": "code",
   "execution_count": 6,
   "outputs": [
    {
     "name": "stderr",
     "output_type": "stream",
     "text": [
      "/home/drapaiton/.cache/pypoetry/virtualenvs/opi-examen-ea-Sik3fYmv-py3.9/lib/python3.9/site-packages/IPython/core/interactiveshell.py:3441: DtypeWarning: Columns (5,13,14) have mixed types.Specify dtype option on import or set low_memory=False.\n",
      "  exec(code_obj, self.user_global_ns, self.user_ns)\n"
     ]
    },
    {
     "name": "stdout",
     "output_type": "stream",
     "text": [
      "41\n"
     ]
    }
   ],
   "source": [
    "\"\"\"EXERCISE 1\n",
    "2. ¿Cuántas categorías?\"\"\"\n",
    "# aqui supongo que las categorias son por cliente\n",
    "CATEGORY_COLUMN_NAME = 'categoria'\n",
    "\n",
    "# this value can be decreased to use less ram, but slower\n",
    "# if increased, faster but more ram is used,\n",
    "# as working with large sets of data,\n",
    "# lower value is better as possible.\n",
    "CHUNK_SIZE = 2000000\n",
    "\n",
    "def get_unique_column_values_quantity(csv_location: str, column_name:str) -> int:\n",
    "    \"\"\"optimized way to get unique rows from a big csv file\"\"\"\n",
    "    output = set()\n",
    "    # never use this my_csv = pd.read_csv('all_data.csv')\n",
    "    # because if csv is 20gb then ram used is 20gb\n",
    "    with pd.read_csv(csv_location, chunksize = CHUNK_SIZE) as file_reader:\n",
    "        # for chunk in file_reader:\n",
    "        for chunk in file_reader:\n",
    "            # this line will delete non/sense rows\n",
    "            valid_chunk = chunk.loc[(chunk != chunk.columns).any(axis=1)]\n",
    "            output.update(valid_chunk[column_name])\n",
    "    return len(output)\n",
    "\n",
    "print(get_unique_column_values_quantity('all_data.csv',CATEGORY_COLUMN_NAME))"
   ],
   "metadata": {
    "collapsed": false,
    "pycharm": {
     "name": "#%%\n"
    }
   }
  },
  {
   "cell_type": "code",
   "execution_count": null,
   "outputs": [],
   "source": [
    "\"\"\"EXERCISE 1\n",
    "3. ¿Cuántas cadenas comerciales están siendo monitoreadas (y, por lo tanto, reportadas\n",
    "en esa base de datos)?\"\"\"\n",
    "\n",
    "# this value can be decreased to use less ram, but slower\n",
    "# if increased, faster but more ram is used,\n",
    "# as working with large sets of data,\n",
    "# lower value is better as possible.\n",
    "CHUNK_SIZE = 250\n",
    "CADENA_COMERCIAL_COLUMN = \"cadenaComercial\"\n",
    "\n",
    "\n",
    "def get_higher_appearances_in_column(column_name: str, csv_location: str) -> int:\n",
    "    \"\"\"optimized way to get total number of unique column values in a big csv file\"\"\"\n",
    "    output: Set[str] = set()\n",
    "    # never use pd.read_csv('all_data.csv')\n",
    "    # because if csv is 20gb then ram used is 20gb\n",
    "    with pd.read_csv(csv_location, chunksize=CHUNK_SIZE) as file_reader:\n",
    "        for chunk in file_reader:\n",
    "            # silently drop nan values & duplicates\n",
    "            chunk[column_name].dropna().drop_duplicates(inplace=True)\n",
    "            # perform merge to obtain unique values\n",
    "            output.update(chunk)\n",
    "    return len(output)\n",
    "\n",
    "\n",
    "# estimated running time = 5 minutes for 20 gb file unlimited ram\n",
    "# (RYZEN 3 3200g similar to i3 10th gen)\n",
    "ANSWER = get_higher_appearances_in_column(\n",
    "    CADENA_COMERCIAL_COLUMN, csv_location=\"all_data.csv\"\n",
    ")  # ANSWER = 705"
   ],
   "metadata": {
    "collapsed": false,
    "pycharm": {
     "name": "#%%\n",
     "is_executing": true
    }
   }
  },
  {
   "cell_type": "code",
   "execution_count": 4,
   "outputs": [
    {
     "data": {
      "text/plain": "'¿Cuáles son los productos más monitoreados en cada estado de la república?'"
     },
     "execution_count": 4,
     "metadata": {},
     "output_type": "execute_result"
    }
   ],
   "source": [
    "\"\"\"¿Cuáles son los productos más monitoreados en cada estado de la república?\"\"\"\n"
   ],
   "metadata": {
    "collapsed": false,
    "pycharm": {
     "name": "#%%\n"
    }
   }
  },
  {
   "cell_type": "code",
   "execution_count": null,
   "outputs": [],
   "source": [
    "\"\"\"EXERCISE 1\n",
    "5. ¿Cuál es la cadena comercial con mayor variedad de productos monitoreados?\"\"\"\n",
    "# mayor variedad significa la mayor cantidad de productos unicos/diferentes\n",
    "\n",
    "# this value can be decreased to use less ram, but slower\n",
    "# if increased, faster but more ram is used,\n",
    "# as working with large sets of data,\n",
    "# lower value is better as possible.\n",
    "CHUNK_SIZE = 2500\n",
    "PRODUCT_COLUMN = 'producto'\n",
    "CADENA_COMERCIAL_COLUMN = 'cadenaComercial'\n",
    "QUANTITY_NEW_COLUMN = 'cantidad'\n",
    "\n",
    "def obtain_unique_values_from_big_csv(csv_location, parent_column:str, children_column:str) -> DaFe:\n",
    "    output = DaFe(columns =[parent_column,children_column])\n",
    "    with pd.read_csv(csv_location, chunksize = CHUNK_SIZE) as file_reader:\n",
    "        # TODO save last chunk index processed if error to help resume\n",
    "        for chunk in file_reader:\n",
    "            # shrink to perform calculations\n",
    "            chunk = chunk[[parent_column,children_column]]\n",
    "            chunk.drop_duplicates(inplace=True)\n",
    "            output = pd.merge(output, chunk, 'outer',\n",
    "                     on=[parent_column, children_column])\\\n",
    "                    .set_index([parent_column, children_column])\\\n",
    "                    .reset_index()\n",
    "    # assert output == output.drop_duplicates()\n",
    "    output = output.value_counts(subset=parent_column)\n",
    "    output.columns = [parent_column,QUANTITY_NEW_COLUMN]\n",
    "    return output\n",
    "\n",
    "\n",
    "def get_higher_unique_values(csv_location:str, parent_column:str,children_column:str) -> Tuple[str, int]:\n",
    "    \"\"\"get name and quantity of higher parent_column with most children_column unique values\"\"\"\n",
    "    unique_repeated_values = obtain_unique_values_from_big_csv(csv_location,parent_column,children_column)\n",
    "    # unique_repeated_values.to_csv('5.- unique_values.csv',index=False)\n",
    "    unique_repeated_values.sort_values(axis=0, ascending=False, inplace=True)\n",
    "    region_quantity_relationship = unique_repeated_values.head(1).to_dict()\n",
    "\n",
    "    the_parent = list(region_quantity_relationship).pop()\n",
    "    quantity = region_quantity_relationship[the_parent]\n",
    "    return the_parent, quantity\n",
    "\n",
    "# estimated running time = 10 minutes for 20 gb file unlimited ram\n",
    "# (RYZEN 3 3200g similar to i3 10th gen)\n",
    "print(get_higher_unique_values('all_data.csv',CADENA_COMERCIAL_COLUMN,PRODUCT_COLUMN))\n",
    "# answer"
   ],
   "metadata": {
    "collapsed": false,
    "pycharm": {
     "name": "#%%\n"
    }
   }
  },
  {
   "cell_type": "code",
   "execution_count": null,
   "outputs": [],
   "source": [
    "\"\"\"EXERCISE 1\n",
    "6. Encuentra algún dato curioso en los datos y comunícalo en un slide de powerpoint.\"\"\"\n",
    "# cual es el producto mas caro\n",
    "# obtener producto,cadenaComercial,precio,marca,presentacion,categoria\n",
    "# (mejor obtener todo y limpiar la fila)"
   ],
   "metadata": {
    "collapsed": false,
    "pycharm": {
     "name": "#%%\n"
    }
   }
  }
 ],
 "metadata": {
  "kernelspec": {
   "display_name": "Python 3",
   "language": "python",
   "name": "python3"
  },
  "language_info": {
   "codemirror_mode": {
    "name": "ipython",
    "version": 2
   },
   "file_extension": ".py",
   "mimetype": "text/x-python",
   "name": "python",
   "nbconvert_exporter": "python",
   "pygments_lexer": "ipython2",
   "version": "2.7.6"
  }
 },
 "nbformat": 4,
 "nbformat_minor": 0
}